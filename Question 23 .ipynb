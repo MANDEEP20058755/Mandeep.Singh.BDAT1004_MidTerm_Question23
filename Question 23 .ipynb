{
 "cells": [
  {
   "cell_type": "code",
   "execution_count": 24,
   "id": "1995d8b1-95c5-4fbd-8a8a-af232e64c9ca",
   "metadata": {},
   "outputs": [
    {
     "name": "stdout",
     "output_type": "stream",
     "text": [
      "calling function with (0,0) \n",
      "\n",
      "calling function with (0,1): \n",
      "\n",
      "*\n",
      "calling function with (0,2):\n",
      "*\n",
      "**\n",
      " *\n",
      "function call with different values (0,4):\n",
      "\n",
      "*\n",
      "**\n",
      " *\n",
      "****\n",
      " *\n",
      " **\n",
      "  *\n"
     ]
    }
   ],
   "source": [
    "def tough(indent,num):\n",
    "     if(num>0):\n",
    "         tough(indent,num//2)\n",
    "         print(\" \"*indent + \"*\"*num)\n",
    "         tough( indent + 1 , num//2)\n",
    "         \n",
    "         \n",
    "#function call\n",
    "print(\"calling function with (0,0) \\n\")\n",
    "tough(0,0)\n",
    "print(\"calling function with (0,1): \\n\")\n",
    "tough(0,1)\n",
    "print(\"calling function with (0,2):\")\n",
    "tough(0,2)\n",
    "print(\"function call with different values (0,4):\\n\")\n",
    "tough(0,4)\n",
    "     \n"
   ]
  },
  {
   "cell_type": "code",
   "execution_count": null,
   "id": "40ee453e-975f-4b9a-bfab-e021c4f0a32a",
   "metadata": {},
   "outputs": [],
   "source": []
  }
 ],
 "metadata": {
  "kernelspec": {
   "display_name": "Python 3 (ipykernel)",
   "language": "python",
   "name": "python3"
  },
  "language_info": {
   "codemirror_mode": {
    "name": "ipython",
    "version": 3
   },
   "file_extension": ".py",
   "mimetype": "text/x-python",
   "name": "python",
   "nbconvert_exporter": "python",
   "pygments_lexer": "ipython3",
   "version": "3.10.9"
  }
 },
 "nbformat": 4,
 "nbformat_minor": 5
}
